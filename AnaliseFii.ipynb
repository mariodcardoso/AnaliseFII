{
 "cells": [
  {
   "cell_type": "code",
   "execution_count": 1,
   "id": "e6c91f2d-f753-4330-a324-3c9db21acbe2",
   "metadata": {
    "tags": []
   },
   "outputs": [],
   "source": [
    "# Installation\n",
    "!pip install requests --quiet\n",
    "!pip install pandas --quiet\n",
    "!pip install beautifulsoup4 --quiet"
   ]
  },
  {
   "cell_type": "code",
   "execution_count": 2,
   "id": "e7ea9a51-35d6-481e-a215-d81badfb4823",
   "metadata": {
    "tags": []
   },
   "outputs": [],
   "source": [
    "#Imports\n",
    "import requests\n",
    "import numpy as np\n",
    "import pandas as pd\n",
    "from bs4 import BeautifulSoup\n",
    "import matplotlib.pyplot as plt"
   ]
  },
  {
   "cell_type": "code",
   "execution_count": 3,
   "id": "9f6c260c-59e0-450e-8fdd-4cfe239f5933",
   "metadata": {},
   "outputs": [],
   "source": [
    "#URL \n",
    "url = \"https://www.fundamentus.com.br/fii_resultado.php\""
   ]
  },
  {
   "cell_type": "code",
   "execution_count": 4,
   "id": "ffb34c4b-9b0d-4da3-b77e-eb543cd60ea4",
   "metadata": {},
   "outputs": [],
   "source": [
    "#Header Config\n",
    "\n",
    "headers = { \n",
    "    'User-Agent'      : 'Mozilla/5.0 (Windows NT 10.0; Win64; x64) AppleWebKit/537.36 (KHTML, like Gecko) Chrome/71.0.3578.98 Safari/537.36', \n",
    "    'Accept'          : 'text/html,application/xhtml+xml,application/xml;q=0.9,*/*;q=0.8', \n",
    "    'Accept-Language' : 'en-US,en;q=0.5',\n",
    "    'DNT'             : '1', # Do Not Track Request Header \n",
    "    'Connection'      : 'close'\n",
    "}\n",
    "data = requests.get(url, headers=headers, timeout=5).text\n",
    "soup = BeautifulSoup(data,\"html.parser\")"
   ]
  },
  {
   "cell_type": "code",
   "execution_count": 5,
   "id": "f95969a8-6989-4450-92bb-07f5e10c4d3a",
   "metadata": {},
   "outputs": [],
   "source": [
    "#Bind table\n",
    "\n",
    "table = soup.find('table')"
   ]
  },
  {
   "cell_type": "code",
   "execution_count": 6,
   "id": "ae08e26e-4734-4611-bb50-bd55c7edbad3",
   "metadata": {},
   "outputs": [],
   "source": [
    "#Creatring DataFrame\n",
    "\n",
    "fii_df = pd.DataFrame(columns=[\n",
    "        'Papel', \n",
    "        'Segmento',\n",
    "        'Cotação',\n",
    "        'FFO Yield',\n",
    "        'Dividend Yield',\n",
    "        'P/VP',\n",
    "        'Valor de Mercado',\n",
    "        'Liquidez',\n",
    "        'Qtd de Imóveis',\n",
    "        'Preço do m2',\n",
    "        'Aluguel por m2',\n",
    "        'Cap Rate',\n",
    "        'Vacancia Media'\n",
    "    ])"
   ]
  },
  {
   "cell_type": "code",
   "execution_count": 7,
   "id": "8c858005-8473-460f-ae2f-65766e3e7006",
   "metadata": {},
   "outputs": [],
   "source": [
    "# Getting all rows\n",
    "\n",
    "for row in table.tbody.find_all('tr'):\n",
    "    # Getting all columns \n",
    "    columns = row.find_all('td')\n",
    "    if (columns != {}):\n",
    "        papel = columns[0].text.strip(' ')\n",
    "        segmento = columns[1].text.strip(' ')\n",
    "        cotacao = columns[2].text.strip(' ')\n",
    "        ffo_yield = columns[3].text.strip(' ')\n",
    "        dividend_yield = columns[4].text.strip(' ')\n",
    "        pvp = columns[5].text.strip(' ') \n",
    "        valor_mercado = columns[6].text.strip(' ') \n",
    "        liquidez = columns[7].text.strip(' ')\n",
    "        qtd_imoveis = columns[8].text.strip(' ')\n",
    "        preco_m2 = columns[9].text.strip(' ')\n",
    "        aluguel_m2 = columns[10].text.strip(' ')\n",
    "        cap_rate = columns[11].text.strip(' ')\n",
    "        vacancia_media = columns[12].text.strip(' ')\n",
    "        \n",
    "        fii_df = pd.concat([fii_df, pd.DataFrame.from_records([{\n",
    "            'Papel': papel, \n",
    "            'Segmento': segmento,\n",
    "            'Cotação': cotacao,\n",
    "            'FFO Yield': ffo_yield,\n",
    "            'Dividend Yield': dividend_yield,\n",
    "            'P/VP': pvp,\n",
    "            'Valor de Mercado': valor_mercado,\n",
    "            'Liquidez': liquidez,\n",
    "            'Qtd de Imóveis': qtd_imoveis,\n",
    "            'Preço do m2': preco_m2,\n",
    "            'Aluguel por m2': aluguel_m2,\n",
    "            'Cap Rate': cap_rate,\n",
    "            'Vacancia Media': vacancia_media\n",
    "        }])], ignore_index=True)"
   ]
  },
  {
   "cell_type": "code",
   "execution_count": 8,
   "id": "cf76748c-dde3-4f14-8c99-bf29a4551e4b",
   "metadata": {},
   "outputs": [],
   "source": [
    "#Replace Dot with empty\n",
    "fii_df = fii_df.applymap(lambda x: str(x.replace('.','').replace(',','.').strip('%')))"
   ]
  },
  {
   "cell_type": "code",
   "execution_count": 9,
   "id": "bf5437eb-3938-4ab3-8b21-dde0b53be669",
   "metadata": {},
   "outputs": [],
   "source": [
    "#Convert columns to float and integer\n",
    "fii_df = fii_df.astype({\n",
    "        'Cotação':'float',\n",
    "        'FFO Yield':'float',\n",
    "        'Dividend Yield':'float',\n",
    "        'P/VP':'float',\n",
    "        'Valor de Mercado':'int',\n",
    "        'Liquidez':'int',\n",
    "        'Qtd de Imóveis': 'int',\n",
    "        'Preço do m2':'float',\n",
    "        'Aluguel por m2':'float',\n",
    "        'Cap Rate':'float',\n",
    "        'Vacancia Media':'float'\n",
    "})"
   ]
  },
  {
   "cell_type": "code",
   "execution_count": 10,
   "id": "a94e2951-b5f9-4a44-b01c-f20ba77b319c",
   "metadata": {},
   "outputs": [],
   "source": [
    "#Including column \"Pontos\"\n",
    "fii_df['Pontos'] = 0"
   ]
  },
  {
   "cell_type": "code",
   "execution_count": 11,
   "id": "f97e743f-06b8-419b-a997-2b099e6c614a",
   "metadata": {},
   "outputs": [],
   "source": [
    "#Filtering coloumn by value\n",
    "fii_df = fii_df.loc[\n",
    "    (fii_df['P/VP'].between(0.7, 1.1)) &\n",
    "    (fii_df['Dividend Yield'].between(10.00, 20.00)) &\n",
    "    (fii_df['Valor de Mercado'] >= 700000000) &\n",
    "    (fii_df['Liquidez'] >= 1000000)\n",
    "]"
   ]
  },
  {
   "cell_type": "code",
   "execution_count": 12,
   "id": "eaa336f5-3f9b-4470-97d0-8a823bcecfbe",
   "metadata": {
    "jupyter": {
     "source_hidden": true
    },
    "tags": []
   },
   "outputs": [],
   "source": [
    "#Calculate top FII by category\n",
    "def sort_columns(col_name, is_ascending=True):\n",
    "    return fii_df.sort_values(by=col_name, ascending=is_ascending)\n",
    "\n",
    "sorted_dfs = [\n",
    "    sort_columns('Dividend Yield', False),\n",
    "    sort_columns('P/VP'),\n",
    "    sort_columns('Liquidez', False),\n",
    "    sort_columns('Valor de Mercado', False)\n",
    "]\n",
    "\n",
    "#Add 1 point for top 5 FII\n",
    "for df in sorted_dfs:\n",
    "    for i in range(0,10):\n",
    "        df.loc[df.index[i],'Pontos'] += 1\n",
    "    fii_df['Pontos'] += df['Pontos']\n"
   ]
  },
  {
   "cell_type": "code",
   "execution_count": 13,
   "id": "7870f9af-5606-4f25-b117-52c99e461761",
   "metadata": {
    "jupyter": {
     "source_hidden": true
    },
    "tags": []
   },
   "outputs": [],
   "source": [
    "#Getting top 10 FII\n",
    "top_ten_fii = fii_df.sort_values(by='Pontos', ascending=False).head(10)"
   ]
  },
  {
   "cell_type": "code",
   "execution_count": 14,
   "id": "651b9405-64c4-408f-a1c8-ff7da2ef5a0a",
   "metadata": {
    "jupyter": {
     "source_hidden": true
    },
    "tags": []
   },
   "outputs": [
    {
     "data": {
      "image/png": "[encoded data removed]",
      "text/plain": [
       "<Figure size 720x360 with 1 Axes>"
      ]
     },
     "metadata": {
      "needs_background": "light"
     },
     "output_type": "display_data"
    }
   ],
   "source": [
    "# Chart\n",
    "chart = plt.figure(figsize=(10, 5))\n",
    "plt.bar(top_ten_fii.loc[:, 'Papel'], top_ten_fii.loc[:, 'Pontos'], color='maroon')\n",
    "plt.show()"
   ]
  }
 ],
 "metadata": {
  "kernelspec": {
   "display_name": "Python 3 (ipykernel)",
   "language": "python",
   "name": "python3"
  },
  "language_info": {
   "codemirror_mode": {
    "name": "ipython",
    "version": 3
   },
   "file_extension": ".py",
   "mimetype": "text/x-python",
   "name": "python",
   "nbconvert_exporter": "python",
   "pygments_lexer": "ipython3",
   "version": "3.9.12"
  }
 },
 "nbformat": 4,
 "nbformat_minor": 5
}
